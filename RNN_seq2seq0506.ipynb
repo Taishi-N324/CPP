{
  "nbformat": 4,
  "nbformat_minor": 0,
  "metadata": {
    "colab": {
      "name": "RNN_seq2seq0506.ipynb",
      "provenance": [],
      "collapsed_sections": []
    },
    "kernelspec": {
      "name": "python3",
      "display_name": "Python 3"
    },
    "language_info": {
      "name": "python"
    }
  },
  "cells": [
    {
      "cell_type": "code",
      "execution_count": 1,
      "metadata": {
        "id": "Xh1bkvUR4e4L"
      },
      "outputs": [],
      "source": [
        "'''\n",
        "必要に応じて !pip install \n",
        "'''\n",
        "import tensorflow as tf\n",
        "import string\n",
        "import re\n",
        "import csv\n",
        "import numpy as np\n",
        "import random\n",
        "from tensorflow import keras\n",
        "from tensorflow.keras import layers\n",
        "from google.colab import files"
      ]
    },
    {
      "cell_type": "code",
      "source": [
        "'''\n",
        "ここの部分は後々改良\n",
        "'''\n",
        "uploaded = files.upload()"
      ],
      "metadata": {
        "colab": {
          "resources": {
            "http://localhost:8080/nbextensions/google.colab/files.js": {
              "data": "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",
              "ok": true,
              "headers": [
                [
                  "content-type",
                  "application/javascript"
                ]
              ],
              "status": 200,
              "status_text": ""
            }
          },
          "base_uri": "https://localhost:8080/",
          "height": 73
        },
        "id": "kqgPXZTN59rQ",
        "outputId": "15f2babf-46b8-45f7-e9de-358be85871b7"
      },
      "execution_count": 2,
      "outputs": [
        {
          "output_type": "display_data",
          "data": {
            "text/plain": [
              "<IPython.core.display.HTML object>"
            ],
            "text/html": [
              "\n",
              "     <input type=\"file\" id=\"files-f7bcdb41-0fd6-4e91-bbca-b763907d5b52\" name=\"files[]\" multiple disabled\n",
              "        style=\"border:none\" />\n",
              "     <output id=\"result-f7bcdb41-0fd6-4e91-bbca-b763907d5b52\">\n",
              "      Upload widget is only available when the cell has been executed in the\n",
              "      current browser session. Please rerun this cell to enable.\n",
              "      </output>\n",
              "      <script src=\"/nbextensions/google.colab/files.js\"></script> "
            ]
          },
          "metadata": {}
        },
        {
          "output_type": "stream",
          "name": "stdout",
          "text": [
            "Saving ja-en.csv to ja-en.csv\n"
          ]
        }
      ]
    },
    {
      "cell_type": "code",
      "source": [
        "#!pwd\n",
        "!ls"
      ],
      "metadata": {
        "colab": {
          "base_uri": "https://localhost:8080/"
        },
        "id": "MZxm7swC_8aj",
        "outputId": "a4d04517-5839-40d4-f4ba-08f0df57edcf"
      },
      "execution_count": null,
      "outputs": [
        {
          "output_type": "stream",
          "name": "stdout",
          "text": [
            "ja-en.csv  sample_data\n"
          ]
        }
      ]
    },
    {
      "cell_type": "code",
      "source": [
        "#データ数増やす場合はgoogle driveに\n",
        "#csvかtxt..etc..\n",
        "\n",
        "\n",
        "name_csv = \"ja-en.csv\"\n",
        "\n",
        "ja_train_text = []\n",
        "en_train_text = []\n",
        "train_pairs = []\n",
        "val_pairs = []\n",
        "test_pairs = []\n",
        "\n",
        "with open(name_csv, newline='') as csvfile:\n",
        "  reader = csv.DictReader(csvfile)\n",
        "  \n",
        "  for row in reader:\n",
        "    ja_train_text.append(row['Japanese'])\n",
        "    en_train_text.append(row['English'])\n",
        "    row['English'] = \"\\\\\" + \" \" + row['English'] +\"|||\"\n",
        "    #ここの感覚は調整する\n",
        "    #trainとval　を同じデータ、シャッフルするだけにしたらどうなるのか\n",
        "\n",
        "    #学習データ：検証データ：テストデータ=8,1,1がよいらしいので。\n",
        "    train_pairs.append((row['Japanese'],row['English']))\n",
        "    random.shuffle(train_pairs)\n",
        "  #print(len(train_pairs))\n",
        "\n",
        "  for i in range(len(train_pairs)//10):\n",
        "    val_pairs.append(train_pairs.pop(0))\n",
        "    test_pairs.append(train_pairs.pop(0))\n",
        "  #print(len(train_pairs))\n",
        "\n",
        "\n",
        "\n"
      ],
      "metadata": {
        "id": "1ASAc7l86wtj"
      },
      "execution_count": 18,
      "outputs": []
    },
    {
      "cell_type": "code",
      "source": [
        "len(train_pairs)//10"
      ],
      "metadata": {
        "colab": {
          "base_uri": "https://localhost:8080/"
        },
        "id": "bOEsf580bfFq",
        "outputId": "108be7e5-a72d-4311-89e8-0661c15b32b6"
      },
      "execution_count": 19,
      "outputs": [
        {
          "output_type": "execute_result",
          "data": {
            "text/plain": [
              "424"
            ]
          },
          "metadata": {},
          "execution_count": 19
        }
      ]
    },
    {
      "cell_type": "code",
      "source": [
        "print(len(train_pairs))\n",
        "print(len(val_pairs))\n",
        "print(len(test_pairs))"
      ],
      "metadata": {
        "colab": {
          "base_uri": "https://localhost:8080/"
        },
        "id": "FYF1XzHLbRC8",
        "outputId": "e0339efe-f3f2-49a5-c4b8-475afc3fc1b2"
      },
      "execution_count": 20,
      "outputs": [
        {
          "output_type": "stream",
          "name": "stdout",
          "text": [
            "4244\n",
            "530\n",
            "530\n"
          ]
        }
      ]
    },
    {
      "cell_type": "code",
      "source": [
        "#適当に確認\n",
        "\n",
        "#print(ja_train_text[700])\n",
        "#print(en_train_text[700])\n",
        "#print(train_pairs)\n",
        "#print(val_pairs)"
      ],
      "metadata": {
        "id": "hjllcmP1AI1X"
      },
      "execution_count": null,
      "outputs": []
    },
    {
      "cell_type": "code",
      "source": [
        "#データのシャッフルはいらない\n",
        "#とりあえずcsvにある約5000のデータで学習させる\n"
      ],
      "metadata": {
        "id": "56ipDlnAMpKK"
      },
      "execution_count": null,
      "outputs": []
    },
    {
      "cell_type": "code",
      "source": [
        "#あとで数値をいじる\n",
        "vocab_size = 10000\n",
        "sequence_length = 20\n",
        "\n",
        "vectorization = layers.TextVectorization(\n",
        "    max_tokens=vocab_size,\n",
        "    output_mode=\"int\",\n",
        "    output_sequence_length=sequence_length,\n",
        ")\n",
        "\n",
        "vectorization.adapt(ja_train_text)\n",
        "vectorization.adapt(en_train_text)\n",
        "#print(ja_train_text)\n",
        "#print(en_train_text)"
      ],
      "metadata": {
        "id": "jWSGRXelmLj2"
      },
      "execution_count": 21,
      "outputs": []
    },
    {
      "cell_type": "code",
      "source": [
        "#データセットの件数が数百件程度であれば32, 64、数万件程度であれば1024, 2048　でtry\n",
        "\n",
        "\n",
        "batch_size = 128\n",
        "\n",
        "def format_dataset(ja, en):\n",
        "    ja = vectorization(ja)\n",
        "    en = vectorization(en)\n",
        "    #ここでスライスするかどうかで変えられる\n",
        "    '''\n",
        "    japanese\"、\"english\"にしないとエラー\n",
        "    '''\n",
        "    return ({\"japanese\": ja,\n",
        "        \"english\": en,\n",
        "    }, en)\n",
        "\n",
        "\n",
        "def make_dataset(pairs):\n",
        "    ja_texts, en_texts = zip(*pairs)\n",
        "    ja_texts = list(ja_texts)\n",
        "    en_texts = list(en_texts)\n",
        "    dataset = tf.data.Dataset.from_tensor_slices((ja_texts, en_texts))\n",
        "    dataset = dataset.batch(batch_size)\n",
        "    dataset = dataset.map(format_dataset, num_parallel_calls=4)\n",
        "    return dataset.shuffle(2048).prefetch(16).cache()\n",
        "\n",
        "train_ds = make_dataset(train_pairs)\n",
        "val_ds = make_dataset(val_pairs)"
      ],
      "metadata": {
        "id": "3-vA7Rx4r2Uu"
      },
      "execution_count": 22,
      "outputs": []
    },
    {
      "cell_type": "markdown",
      "source": [
        ""
      ],
      "metadata": {
        "id": "ib2fRqP1OZlS"
      }
    },
    {
      "cell_type": "code",
      "source": [
        "embed_dim = 256\n",
        "latent_dim = 1024\n",
        "\n",
        "source = keras.Input(shape=(None,), dtype=\"int64\", name=\"japanese\")\n",
        "\n",
        "x = layers.Embedding(vocab_size, embed_dim, mask_zero=True)(source)\n",
        "encoded_source = layers.Bidirectional(\n",
        "    layers.GRU(latent_dim), merge_mode=\"sum\")(x)\n",
        "\n",
        "past_target = keras.Input(shape=(None,), dtype=\"int64\", name=\"english\")\n",
        "x = layers.Embedding(vocab_size, embed_dim, mask_zero=True)(past_target)\n",
        "decoder_gru = layers.GRU(latent_dim, return_sequences=True)\n",
        "x = decoder_gru(x, initial_state=encoded_source)\n",
        "x = layers.Dropout(0.5)(x)\n",
        "target_next_step = layers.Dense(vocab_size, activation=\"softmax\")(x)\n",
        "seq2seq_rnn = keras.Model([source, past_target], target_next_step)"
      ],
      "metadata": {
        "id": "Fzy2JEdgGWa_"
      },
      "execution_count": 23,
      "outputs": []
    },
    {
      "cell_type": "code",
      "source": [
        "for inputs, targets in train_ds.take(1):\n",
        "    print(f\"inputs['japanese'].shape: {inputs['japanese'].shape}\")\n",
        "    print(f\"inputs['english'].shape: {inputs['english'].shape}\")\n",
        "    print(f\"targets.shape: {targets.shape}\")\n",
        "\n",
        "#format_datasetのところで調整可能 "
      ],
      "metadata": {
        "colab": {
          "base_uri": "https://localhost:8080/"
        },
        "id": "ep6dnZQz6ldF",
        "outputId": "987adb65-cb2d-464c-f466-a981f6c8bdd1"
      },
      "execution_count": 24,
      "outputs": [
        {
          "output_type": "stream",
          "name": "stdout",
          "text": [
            "inputs['japanese'].shape: (128, 20)\n",
            "inputs['english'].shape: (128, 20)\n",
            "targets.shape: (128, 20)\n"
          ]
        }
      ]
    },
    {
      "cell_type": "code",
      "source": [
        ""
      ],
      "metadata": {
        "colab": {
          "base_uri": "https://localhost:8080/"
        },
        "id": "-6FzGUV5cOBN",
        "outputId": "b522ee85-f79e-45f7-e461-02c53804d9d0"
      },
      "execution_count": 17,
      "outputs": [
        {
          "output_type": "stream",
          "name": "stdout",
          "text": [
            "['japanese']\n"
          ]
        }
      ]
    },
    {
      "cell_type": "code",
      "source": [
        "#RNNでseq2seqで訓練\n",
        "\n",
        "seq2seq_rnn.compile(\n",
        "    optimizer=\"rmsprop\",\n",
        "    loss=\"sparse_categorical_crossentropy\",\n",
        "    metrics=[\"accuracy\"])\n",
        "\n",
        "\n",
        "#損失関数の値が収束するような、epochs数に調整を行う。\n",
        "seq2seq_rnn.fit(train_ds, \n",
        "                epochs=3, \n",
        "                validation_data=val_ds)\n"
      ],
      "metadata": {
        "colab": {
          "base_uri": "https://localhost:8080/"
        },
        "id": "1QHQ7dbuEO9_",
        "outputId": "34fa0991-59bd-4f54-ad54-f674548bab99"
      },
      "execution_count": 32,
      "outputs": [
        {
          "output_type": "stream",
          "name": "stdout",
          "text": [
            "Epoch 1/3\n",
            "34/34 [==============================] - 321s 9s/step - loss: 1.2065 - accuracy: 0.5923 - val_loss: 1.1991 - val_accuracy: 0.6251\n",
            "Epoch 2/3\n",
            "34/34 [==============================] - 292s 9s/step - loss: 0.9823 - accuracy: 0.6680 - val_loss: 1.0731 - val_accuracy: 0.6852\n",
            "Epoch 3/3\n",
            "34/34 [==============================] - 293s 9s/step - loss: 0.8069 - accuracy: 0.7260 - val_loss: 1.0138 - val_accuracy: 0.7175\n"
          ]
        },
        {
          "output_type": "execute_result",
          "data": {
            "text/plain": [
              "<keras.callbacks.History at 0x7fb1decad5d0>"
            ]
          },
          "metadata": {},
          "execution_count": 32
        }
      ]
    },
    {
      "cell_type": "code",
      "source": [
        "import matplotlib.pyplot as plt\n",
        "plt.figure(figsize=(9, 6))\n",
        "#plt.plot(1 + np.arange(len(acc_list)), acc_list, marker='o')\n",
        "plt.xlabel('epoch')\n",
        "plt.ylabel('accuracy')\n",
        "plt.title('seq2seq', fontsize=20)\n",
        "plt.ylim(0, 1) # y軸の表示範囲\n",
        "plt.grid() # グリッド線\n",
        "plt.show()"
      ],
      "metadata": {
        "colab": {
          "base_uri": "https://localhost:8080/",
          "height": 409
        },
        "id": "xs0IudDhjvDi",
        "outputId": "cae60ffa-c260-40da-97c6-81bfe1169c67"
      },
      "execution_count": 36,
      "outputs": [
        {
          "output_type": "display_data",
          "data": {
            "text/plain": [
              "<Figure size 648x432 with 1 Axes>"
            ],
            "image/png": "[encoded data removed]"
          },
          "metadata": {
            "needs_background": "light"
          }
        }
      ]
    },
    {
      "cell_type": "code",
      "source": [
        "#Epochが引き継いでる?\n",
        "\n",
        "\n",
        "#https://blog.octopt.com/sequence-to-sequence/ を参考にして次やってみる\n"
      ],
      "metadata": {
        "id": "6sYPIqDji0Uj"
      },
      "execution_count": null,
      "outputs": []
    },
    {
      "cell_type": "code",
      "source": [
        "\n",
        "#モデル保存などもやりたい\n",
        "\n",
        "#損失関数の収束状況を見たい。"
      ],
      "metadata": {
        "id": "lllb4L-fcurU"
      },
      "execution_count": null,
      "outputs": []
    },
    {
      "cell_type": "code",
      "source": [
        "'''\n",
        "#原因解明をする\n",
        "\n",
        "\n",
        "vectorization = layers.TextVectorization(\n",
        "    max_tokens=vocab_size,\n",
        "    output_mode=\"int\",\n",
        "    output_sequence_length=sequence_length,\n",
        ")\n",
        "\n",
        "ここか\n",
        "したのプログラム\n",
        "'''\n",
        "\n",
        "\n",
        "eng_vocab = vectorization.get_vocabulary()\n",
        "eng_index_lookup = dict(zip(range(len(eng_vocab)), eng_vocab))\n",
        "max_decoded_sentence_length = 20 \n",
        "\n",
        "def decode_sequence(input_sentence):\n",
        "    tokenized_input_sentence = vectorization([input_sentence])\n",
        "    decoded_sentence = \"\\\\ \"\n",
        "    for i in range(max_decoded_sentence_length):\n",
        "        tokenized_target_sentence = vectorization([decoded_sentence])\n",
        "        next_token_predictions = seq2seq_rnn.predict(\n",
        "            [tokenized_input_sentence, tokenized_target_sentence])\n",
        "        sampled_token_index = np.argmax(next_token_predictions[0, i, :])\n",
        "        sampled_token = eng_index_lookup[sampled_token_index]\n",
        "        decoded_sentence += \" \" + sampled_token\n",
        "        if sampled_token == \"|||\":\n",
        "            break\n",
        "    return decoded_sentence\n",
        "\n",
        "test_eng_texts = [pair[0] for pair in test_pairs]\n",
        "for _ in range(20):\n",
        "    input_sentence = random.choice(test_eng_texts)\n",
        "    print(\"-\")\n",
        "    print(input_sentence)\n",
        "    print(decode_sequence(input_sentence))"
      ],
      "metadata": {
        "id": "TCEPi9bYruU_",
        "colab": {
          "base_uri": "https://localhost:8080/"
        },
        "outputId": "dc581944-70ff-4d12-8d56-39581214bafe"
      },
      "execution_count": 35,
      "outputs": [
        {
          "output_type": "stream",
          "name": "stdout",
          "text": [
            "-\n",
            "皆何倍もの運動能力を持っている\n",
            "\\  site site site site site site site site site site site site site site site site site site site site\n",
            "-\n",
            "彼が久しぶりに極楽気分を味わいました\n",
            "\\  site site site site site site site site site site site site site site site site site site site site\n",
            "-\n",
            "彼がブログ記事を検索しました\n",
            "\\  site site site site site site site site site site site site site site site site site site site site\n",
            "-\n",
            "Xを皆が避けました\n",
            "\\  site site site site site site site site site site site site site site site site site site site site\n",
            "-\n",
            "受講した方には、受講修了証明書を発行します\n",
            "\\  site site site site site site site site site site site site site site site site site site site site\n",
            "-\n",
            "彼は完全に自分の世界に入っている\n",
            "\\  site site site site site site site site site site site site site site site site site site site site\n",
            "-\n",
            "それが山田には大きな意味合いを持つ\n",
            "\\  site site site site site site site site site site site site site site site site site site site site\n",
            "-\n",
            "Xに心から敬意を表します\n",
            "\\  site site site site site site site site site site site site site site site site site site site site\n",
            "-\n",
            "彼はその人の名前を聞かなかった\n",
            "\\  site site site site site site site site site site site site site site site site site site site site\n",
            "-\n",
            "以上で全ての登録が完了します\n",
            "\\  site site site site site site site site site site site site site site site site site site site site\n",
            "-\n",
            "彼がずっと家に居る\n",
            "\\  site site site site site site site site site site site site site site site site site site site site\n",
            "-\n",
            "明日はパンにする\n",
            "\\  site site site site site site site site site site site site site site site site site site site site\n",
            "-\n",
            "先週、やっと全ての試合が終わった\n",
            "\\  site site site site site site site site site site site site site site site site site site site site\n",
            "-\n",
            "彼がにがうりを２ｍｍくらいの薄切りにする\n",
            "\\  site site site site site site site site site site site site site site site site site site site site\n",
            "-\n",
            "皆さんに冬のイベントを紹介します\n",
            "\\  site site site site site site site site site site site site site site site site site site site site\n",
            "-\n",
            "管理者が内容を確認する\n",
            "\\  site site site site site site site site site site site site site site site site site site site site\n",
            "-\n",
            "あなたの決心が家族の健康を守ります\n",
            "\\  site site site site site site site site site site site site site site site site site site site site\n",
            "-\n",
            "それが直ちに措置を取る\n",
            "\\  site site site site site site site site site site site site site site site site site site site site\n",
            "-\n",
            "本課程は、１年間で社会福祉士の受験資格を取得できます\n",
            "\\  site site site site site site site site site site site site site site site site site site site site\n",
            "-\n",
            "ますます寒さが厳しさを増します\n",
            "\\  site site site site site site site site site site site site site site site site site site site site\n"
          ]
        }
      ]
    },
    {
      "cell_type": "code",
      "source": [
        "'''\n",
        "epoch1の出力\n",
        "\n",
        "\n",
        "-\n",
        "彼がイベントを１日で３回もやった\n",
        "\\  and the the the the the the the the the the the the the the the the the the the\n",
        "-\n",
        "彼が時間の大半を仕事に費やします\n",
        "\\  and the the the the the the the the the the the the the the the the the the the\n",
        "-\n",
        "それが非常に示唆に富んでいた\n",
        "\\  and the the the the the the the the the the the the the the the the the the the\n",
        "-\n",
        "彼が９地点で大気中の水銀濃度を測定しました\n",
        "\\  and the the the the the the the the the the the the the the the the the the the\n",
        "-\n",
        "彼が嬉しそうに、満面の笑顔を浮かべる\n",
        "\\  and the the the the the the the the the the the the the the the the the the the\n",
        "-\n",
        "それが１７年度の集計ページへリンクします\n",
        "\\  and the the the the the the the the the the the the the the the the the the the\n",
        "-\n",
        "より一層の取り組みが求められる\n",
        "\\  and the the the the the the the the the the the the the the the the the the the\n",
        "-\n",
        "料金には、基本料金・保険及び車両・対物事故時の免責補償制度加入料金・消費税が含まれます\n",
        "\\  and the the the the the the the the the the the the the the the the the the the\n",
        "-\n",
        "彼がそのままバスで京都空港へと向かいました\n",
        "\\  and the the the the the the the the the the the the the the the the the the the\n",
        "-\n",
        "規定がなお効力を有する\n",
        "\\  and the the the the the the the the the the the the the the the the the the the\n",
        "-\n",
        "必ず運命の人が現れる\n",
        "\\  and the the the the the the the the the the the the the the the the the the the\n",
        "-\n",
        "思わず力が入ります\n",
        "\\  and the the the the the the the the the the the the the the the the the the the\n",
        "-\n",
        "協議会出納員は，協議会の出納その他の会計事務を司どる\n",
        "\\  and the the the the the the the the the the the the the the the the the the the\n",
        "-\n",
        "妊娠中の方から、時々質問を頂きました\n",
        "\\  and the the the the the the the the the the the the the the the the the the the\n",
        "-\n",
        "むしろ、その可能性のほうが高い\n",
        "\\  and the the the the the the the the the the the the the the the the the the the\n",
        "-\n",
        "お得意様のニーズに応えられるよう、なお一層の努力を重ねます\n",
        "\\  and the the the the the the the the the the the the the the the the the the the\n",
        "-\n",
        "思わず誰もが美しさに目を奪われる\n",
        "\\  and the the the the the the the the the the the the the the the the the the the\n",
        "-\n",
        "そのほうが絶対楽しい\n",
        "\\  and the the the the the the the the the the the the the the the the the the the\n",
        "-\n",
        "私は、小銭を手にすると、なんだか元気が出ます\n",
        "\\  and the the the the the the the the the the the the the the the the the the the\n",
        "-\n",
        "彼がアメリカを代表する\n",
        "\\  and the the the the the the the the the the the the the the the the the the the\n",
        "\n",
        "'''"
      ],
      "metadata": {
        "id": "wHhE_Vy7eVrV"
      },
      "execution_count": null,
      "outputs": []
    },
    {
      "cell_type": "code",
      "source": [
        "'''\n",
        "\n",
        "Epoch 1/2\n",
        "34/34 [==============================] - 302s 9s/step - loss: 1.7823 - accuracy: 0.4003 - val_loss: 1.5987 - val_accuracy: 0.4838\n",
        "Epoch 2/2\n",
        "34/34 [==============================] - 290s 9s/step - loss: 1.4114 - accuracy: 0.5166 - val_loss: 1.3820 - val_accuracy: 0.5649\n",
        "<keras.callbacks.History at 0x7fb1dc245a50>\n",
        "\n",
        "\n",
        "\n",
        "-\n",
        "彼が楽しく簡単にネットで金を稼ぎます\n",
        "\\  every every company company company company company company company company company company company company company company company company company company\n",
        "-\n",
        "規定がなお効力を有する\n",
        "\\  every every company company company company company company company company company company company company company company company company company company\n",
        "-\n",
        "Xが私を苦しめた\n",
        "\\  every every company company company company company company company company company company company company company company company company company company\n",
        "-\n",
        "ポリフェノールが体内の活性酸素を除去する\n",
        "\\  every every company company company company company company company company company company company company company company company company company company\n",
        "-\n",
        "温泉でゆっくり体を温めます\n",
        "\\  every every company company company company company company company company company company company company company company company company company company\n",
        "-\n",
        "明日はパンにする\n",
        "\\  every every company company company company company company company company company company company company company company company company company company\n",
        "-\n",
        "Xを誰もが確信する\n",
        "\\  every every company company company company company company company company company company company company company company company company company company\n",
        "-\n",
        "問題は自分がどちらの道を選ぶかだ\n",
        "\\  every every company company company company company company company company company company company company company company company company company company\n",
        "-\n",
        "そういう人を相手にしません\n",
        "\\  every every company company company company company company company company company company company company company company company company company company\n",
        "-\n",
        "彼が更に活動の範囲を広げる\n",
        "\\  every every company company company company company company company company company company company company company company company company company company\n",
        "-\n",
        "それが現在では末期癌患者の治療に一定の効果を上げています\n",
        "\\  every every company company company company company company company company company company company company company company company company company company\n",
        "-\n",
        "彼が治療指導の方法を研究しました\n",
        "\\  every every company company company company company company company company company company company company company company company company company company\n",
        "-\n",
        "彼はネットで収入を得ている\n",
        "\\  every every company company company company company company company company company company company company company company company company company company\n",
        "-\n",
        "われわれがプロの生産技術者を育成します\n",
        "\\  every every company company company company company company company company company company company company company company company company company company\n",
        "-\n",
        "彼が久しぶりに家でピアノを弾く\n",
        "\\  every every company company company company company company company company company company company company company company company company company company\n",
        "-\n",
        "持ってないもんを人に薦めるな\n",
        "\\  every every company company company company company company company company company company company company company company company company company company\n",
        "-\n",
        "私はこの新機能を使っていません\n",
        "\\  every every company company company company company company company company company company company company company company company company company company\n",
        "-\n",
        "彼が全然人の話しを聞かない\n",
        "\\  every every company company company company company company company company company company company company company company company company company company\n",
        "-\n",
        "断然こっちのほうが早い\n",
        "\\  every every company company company company company company company company company company company company company company company company company company\n",
        "-\n",
        "ついに地球のすべてが分かると誰もが確信しました\n",
        "\\  every every company company company company company company company company company company company company company company company company company company\n",
        "[ ]\n",
        "\n",
        "\n",
        "'''"
      ],
      "metadata": {
        "id": "bkk-teVph4ph"
      },
      "execution_count": null,
      "outputs": []
    }
  ]
}