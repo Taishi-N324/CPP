{
  "nbformat": 4,
  "nbformat_minor": 0,
  "metadata": {
    "colab": {
      "name": "blue_score.ipynb",
      "provenance": []
    },
    "kernelspec": {
      "name": "python3",
      "display_name": "Python 3"
    },
    "language_info": {
      "name": "python"
    }
  },
  "cells": [
    {
      "cell_type": "code",
      "source": [
        "test = 'Shohei Ohtani, nicknamed \"Shotime\", is a Japanese professional baseball pitcher'"
      ],
      "metadata": {
        "id": "_tL7Fhtt4SSF"
      },
      "execution_count": 28,
      "outputs": []
    },
    {
      "cell_type": "code",
      "source": [
        "import nltk\n",
        "\n",
        "def blue_score(hypothesis_text,reference_text):\n",
        "  hypothesis = hypothesis_text.split()\n",
        "  reference = reference_text.split()\n",
        "  references = [reference] \n",
        "  list_of_references = [references]\n",
        "  list_of_hypotheses = [hypothesis]\n",
        "  return nltk.translate.bleu_score.corpus_bleu(list_of_references, list_of_hypotheses)\n",
        "\n",
        "\n",
        "\n"
      ],
      "metadata": {
        "id": "Kg3eM0iV2fNm"
      },
      "execution_count": 29,
      "outputs": []
    },
    {
      "cell_type": "code",
      "source": [
        "blue_score(test,test)"
      ],
      "metadata": {
        "colab": {
          "base_uri": "https://localhost:8080/"
        },
        "id": "jPbcC1Cm5Ik7",
        "outputId": "e68d7f80-1058-408b-b4f3-fed61a3c87f7"
      },
      "execution_count": 30,
      "outputs": [
        {
          "output_type": "execute_result",
          "data": {
            "text/plain": [
              "1.0"
            ]
          },
          "metadata": {},
          "execution_count": 30
        }
      ]
    },
    {
      "cell_type": "code",
      "source": [
        "#nltk.download()"
      ],
      "metadata": {
        "id": "q0VIrd3w2aFm"
      },
      "execution_count": null,
      "outputs": []
    }
  ]
}